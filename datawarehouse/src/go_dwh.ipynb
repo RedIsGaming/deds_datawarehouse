{
 "cells": [
  {
   "cell_type": "markdown",
   "metadata": {},
   "source": [
    "# (PR4-3) Datawarehouse\n",
    "\n",
    "The tasks"
   ]
  },
  {
   "cell_type": "code",
   "execution_count": null,
   "metadata": {},
   "outputs": [],
   "source": [
    "#Bouw voort op je uitwerking van het vorige practicum:\n",
    "\n",
    "#1 Maak een database in SSMS, dit wordt je uiteindelijke Data Warehouse.\n",
    "#Helemaal goed.\n",
    "\n",
    "#2 Maak een ETL-schema van elke tabel in het Sterschema.\n",
    "#Dit kan in het document worden gevonden.\n",
    "\n",
    "#3 Implementeer elk gemaakt ETL-schema in Python (met Jupyter Notebook). Gebruik hierbij de technische informatie uit week 2.\n",
    "#Helemaal goed.\n",
    "\n",
    "#4 Zorg er ten slotte voor dat je het Sterschema en elk ETL-schema aan je portfolio hebt toegevoegd. Hier word je in week 6 op beoordeeld.\n",
    "#Dit kan in het document worden gevonden."
   ]
  },
  {
   "cell_type": "markdown",
   "metadata": {},
   "source": [
    "## Archived code\n",
    "\n",
    "Code that's really dead and isn't used anymore."
   ]
  },
  {
   "cell_type": "code",
   "execution_count": 103,
   "metadata": {},
   "outputs": [
    {
     "name": "stdout",
     "output_type": "stream",
     "text": [
      "Succesfully established connection to surrealdb::Surreal.\n",
      "      time status                                             result\n",
      "0  214.8µs     OK  [{'id': 'person:3y7hnk7qar49i57dlpy4', 'market...\n"
     ]
    }
   ],
   "source": [
    "# import pandas as pd\n",
    "# from surrealdb import Surreal\n",
    "# from dotenv import dotenv_values as values\n",
    "\n",
    "# async def main() -> None:\n",
    "#     env: dict[str, str | None] = values(\".env.local\")\n",
    "\n",
    "#     async with Surreal(\"ws://\" + env[\"ENDPOINT_URL\"] + \"/rpc\") as db:\n",
    "#         await db.connect()\n",
    "#         await db.signin({\"user\": env[\"USERNAME\"], \"pass\": env[\"PASSWORD\"]})\n",
    "#         await db.use(env[\"NAMESPACE\"], env[\"DATABASE\"])  \n",
    "#         print(\"Succesfully established connection to surrealdb::Surreal.\")\n",
    "\n",
    "#         await db.create(\n",
    "#             \"person\",\n",
    "#             {\n",
    "#                 \"user\": \"2s\",\n",
    "#                 \"pass\": \"safe\",\n",
    "#                 \"marketing\": True,\n",
    "#                 \"tags\": [\"python\", \"documentation\"],\n",
    "#             },\n",
    "#         )\n",
    "\n",
    "#         result = await db.query(\"SELECT * FROM person\")\n",
    "#         df = pd.DataFrame.from_dict(result)\n",
    "        \n",
    "#         print(df)\n",
    "#         await db.delete(\"person\")\n",
    "#         await db.close()\n",
    "\n",
    "# await main()"
   ]
  },
  {
   "cell_type": "markdown",
   "metadata": {},
   "source": [
    "## DWH imports\n",
    "\n",
    "Import the necassery modules."
   ]
  },
  {
   "cell_type": "code",
   "execution_count": 56,
   "metadata": {},
   "outputs": [],
   "source": [
    "import pyodbc as sql_server\n",
    "from dotenv import dotenv_values as values\n",
    "import pandas as pd\n",
    "import warnings as warn\n",
    "warn.simplefilter(\"ignore\")"
   ]
  },
  {
   "cell_type": "markdown",
   "metadata": {},
   "source": [
    "## Connection to SQL Server\n",
    "\n",
    "Load the values from the .env.local file."
   ]
  },
  {
   "cell_type": "code",
   "execution_count": 57,
   "metadata": {},
   "outputs": [
    {
     "name": "stdout",
     "output_type": "stream",
     "text": [
      "Succesfully established connection to the server: <pyodbc.Connection object at 0x00000203FA41BC50>\n"
     ]
    }
   ],
   "source": [
    "env: dict[str, str | None] = values(\".env.local\")\n",
    "\n",
    "conn_str: any = (\n",
    "    \"DRIVER={SQL Server};Server=\" + env[\"SERVER\"] + \n",
    "    \";Database=\" + env[\"DATABASE\"] + \n",
    "    \";Port=\" + env[\"PORT\"] + \n",
    "    \";User ID=\" + env[\"USERNAME\"] + \n",
    "    \";Password=\" + env[\"PASSWORD\"] + \n",
    "    \"trusted_connection=yes;\"\n",
    ")\n",
    "\n",
    "try:\n",
    "    conn = sql_server.connect(conn_str)\n",
    "    print(f\"Succesfully established connection to the server: {conn}\")\n",
    "\n",
    "except sql_server.Error as err:\n",
    "    print(f\"Error while connecting to the server: {err.args[1]}\")"
   ]
  },
  {
   "cell_type": "markdown",
   "metadata": {},
   "source": [
    "## Read all tables\n",
    "\n",
    "Read the tables with pandas from SQL Server."
   ]
  },
  {
   "cell_type": "code",
   "execution_count": 58,
   "metadata": {},
   "outputs": [],
   "source": [
    "table1 = pd.read_sql_query(\"SELECT * FROM tabel\", conn)\n",
    "# table2 = pd.read_sql_query(\"SELECT * FROM tabel2\", conn)\n",
    "# table3 = pd.read_sql_query(\"SELECT * FROM tabel3\", conn)\n",
    "# table4 = pd.read_sql_query(\"SELECT * FROM tabel4\", conn)\n",
    "# table5 = pd.read_sql_query(\"SELECT * FROM tabel5\", conn)\n",
    "# table6 = pd.read_sql_query(\"SELECT * FROM tabel6\", conn)\n",
    "# table7 = pd.read_sql_query(\"SELECT * FROM tabel7\", conn)\n",
    "# table8 = pd.read_sql_query(\"SELECT * FROM tabel8\", conn)\n",
    "# table9 = pd.read_sql_query(\"SELECT * FROM tabel9\", conn)\n",
    "# table10 = pd.read_sql_query(\"SELECT * FROM tabel10\", conn)"
   ]
  }
 ],
 "metadata": {
  "kernelspec": {
   "display_name": "Python 3",
   "language": "python",
   "name": "python3"
  },
  "language_info": {
   "codemirror_mode": {
    "name": "ipython",
    "version": 3
   },
   "file_extension": ".py",
   "mimetype": "text/x-python",
   "name": "python",
   "nbconvert_exporter": "python",
   "pygments_lexer": "ipython3",
   "version": "3.12.2"
  }
 },
 "nbformat": 4,
 "nbformat_minor": 2
}
